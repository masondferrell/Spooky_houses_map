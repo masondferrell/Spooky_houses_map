{
  "nbformat": 4,
  "nbformat_minor": 0,
  "metadata": {
    "colab": {
      "provenance": []
    },
    "kernelspec": {
      "name": "ir",
      "display_name": "R"
    },
    "language_info": {
      "name": "R"
    }
  },
  "cells": [
    {
      "cell_type": "code",
      "execution_count": 1,
      "metadata": {
        "colab": {
          "base_uri": "https://localhost:8080/"
        },
        "id": "1wxCl2KQUY7V",
        "outputId": "a2c1d522-6707-4471-a00d-ccb0ba6104e8"
      },
      "outputs": [
        {
          "output_type": "stream",
          "name": "stderr",
          "text": [
            "Installing package into ‘/usr/local/lib/R/site-library’\n",
            "(as ‘lib’ is unspecified)\n",
            "\n",
            "also installing the dependencies ‘lazyeval’, ‘Rcpp’, ‘terra’, ‘gridExtra’, ‘crosstalk’, ‘htmlwidgets’, ‘leaflet.providers’, ‘png’, ‘raster’, ‘sp’, ‘viridis’\n",
            "\n",
            "\n"
          ]
        }
      ],
      "source": [
        "install.packages(\"leaflet\")"
      ]
    },
    {
      "cell_type": "code",
      "source": [
        "install.packages(\"htmlwidgets\")"
      ],
      "metadata": {
        "colab": {
          "base_uri": "https://localhost:8080/"
        },
        "id": "ei7reHDdXldW",
        "outputId": "9ec3df69-6dd1-4ed8-d1b5-1b6f95522d99"
      },
      "execution_count": 2,
      "outputs": [
        {
          "output_type": "stream",
          "name": "stderr",
          "text": [
            "Installing package into ‘/usr/local/lib/R/site-library’\n",
            "(as ‘lib’ is unspecified)\n",
            "\n"
          ]
        }
      ]
    },
    {
      "cell_type": "code",
      "source": [
        "library(leaflet)\n",
        "library(htmlwidgets)\n",
        "library(googledrive)\n",
        "library(tidyverse)"
      ],
      "metadata": {
        "colab": {
          "base_uri": "https://localhost:8080/"
        },
        "id": "VhrRgTJMX8bs",
        "outputId": "85156176-6008-48cb-d751-45830b891840"
      },
      "execution_count": 4,
      "outputs": [
        {
          "output_type": "stream",
          "name": "stderr",
          "text": [
            "── \u001b[1mAttaching core tidyverse packages\u001b[22m ──────────────────────── tidyverse 2.0.0 ──\n",
            "\u001b[32m✔\u001b[39m \u001b[34mdplyr    \u001b[39m 1.1.3     \u001b[32m✔\u001b[39m \u001b[34mreadr    \u001b[39m 2.1.4\n",
            "\u001b[32m✔\u001b[39m \u001b[34mforcats  \u001b[39m 1.0.0     \u001b[32m✔\u001b[39m \u001b[34mstringr  \u001b[39m 1.5.0\n",
            "\u001b[32m✔\u001b[39m \u001b[34mggplot2  \u001b[39m 3.4.4     \u001b[32m✔\u001b[39m \u001b[34mtibble   \u001b[39m 3.2.1\n",
            "\u001b[32m✔\u001b[39m \u001b[34mlubridate\u001b[39m 1.9.3     \u001b[32m✔\u001b[39m \u001b[34mtidyr    \u001b[39m 1.3.0\n",
            "\u001b[32m✔\u001b[39m \u001b[34mpurrr    \u001b[39m 1.0.2     \n",
            "── \u001b[1mConflicts\u001b[22m ────────────────────────────────────────── tidyverse_conflicts() ──\n",
            "\u001b[31m✖\u001b[39m \u001b[34mdplyr\u001b[39m::\u001b[32mfilter()\u001b[39m masks \u001b[34mstats\u001b[39m::filter()\n",
            "\u001b[31m✖\u001b[39m \u001b[34mdplyr\u001b[39m::\u001b[32mlag()\u001b[39m    masks \u001b[34mstats\u001b[39m::lag()\n",
            "\u001b[36mℹ\u001b[39m Use the conflicted package (\u001b[3m\u001b[34m<http://conflicted.r-lib.org/>\u001b[39m\u001b[23m) to force all conflicts to become errors\n"
          ]
        }
      ]
    },
    {
      "cell_type": "code",
      "source": [
        "drive_deauth()\n",
        "drive_download(as_id(\"1lK5S8saTMPgw2psJx9K1VeO20MFtfgrKWb3cJBB57VU\"), overwrite = TRUE, type = \"csv\")\n",
        "spookydata <- as.data.frame(read.csv(\"Halloween_decoration_map.csv\"))"
      ],
      "metadata": {
        "colab": {
          "base_uri": "https://localhost:8080/"
        },
        "id": "cXgxuavtY52b",
        "outputId": "07429e7f-7943-4c3f-8a77-d092c3a294ce"
      },
      "execution_count": 7,
      "outputs": [
        {
          "output_type": "stream",
          "name": "stderr",
          "text": [
            "File downloaded:\n",
            "\n",
            "• \u001b[36mHalloween_decoration_map\u001b[39m \u001b[90m<id: 1lK5S8saTMPgw2psJx9K1VeO20MFtfgrKWb3cJBB57VU>\u001b[39m\n",
            "\n",
            "Saved locally as:\n",
            "\n",
            "• \u001b[34mHalloween_decoration_map.csv\u001b[39m\n",
            "\n"
          ]
        }
      ]
    },
    {
      "cell_type": "code",
      "source": [
        "\n",
        "html <- spookydata %>%\n",
        "      leaflet() %>%\n",
        "      addTiles(group = \"OSM\")%>%\n",
        "        addProviderTiles(providers$CartoDB.Positron, group = \"CartoDB\") %>%\n",
        "        addProviderTiles(providers$Esri.NatGeoWorldMap, group = \"NatGeo\") %>%\n",
        "        addProviderTiles(providers$Esri.WorldImagery, group = \"ESRI\") %>%\n",
        "      addCircleMarkers(popup = spookydata$Decorated.scale,\n",
        "                       color = \"grey\",\n",
        "                       fillColor = spookydata$Decorated.scale,\n",
        "                       fillOpacity = 0.7,\n",
        "                       labelOptions = labelOptions(noHide = T, direction = \"bottom\",\n",
        "                                                   offset=c(0,-20), textOnly = TRUE)) %>%\n",
        "      addLayersControl(\n",
        "        baseGroups = c(\"OSM\", \"CartoDB\", \"NatGeo\", \"ESRI\"),\n",
        "        options = layersControlOptions(collapsed = FALSE),\n",
        "        overlayGroups = \"Spooky Houses\") %>%\n",
        "      addMiniMap(zoomLevelOffset = -4) %>%\n",
        "      addScaleBar()\n",
        "saveWidget(html, file = \"index.html\")"
      ],
      "metadata": {
        "colab": {
          "base_uri": "https://localhost:8080/"
        },
        "id": "-ccE90Pmow_M",
        "outputId": "05a20f64-66f9-415d-d883-bbd37a595411"
      },
      "execution_count": 8,
      "outputs": [
        {
          "output_type": "stream",
          "name": "stderr",
          "text": [
            "Assuming \"Longitude\" and \"Latitude\" are longitude and latitude, respectively\n",
            "\n"
          ]
        }
      ]
    }
  ]
}